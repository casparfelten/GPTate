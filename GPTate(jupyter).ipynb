{
 "cells": [
  {
   "cell_type": "code",
   "execution_count": 5,
   "id": "e7a225ec-b6ef-40d2-8afe-792d1d26afe9",
   "metadata": {
    "tags": []
   },
   "outputs": [
    {
     "name": "stdout",
     "output_type": "stream",
     "text": [
      "Success\n"
     ]
    }
   ],
   "source": [
    "import pandas as pd\n",
    "import regex as re\n",
    "import random\n",
    "print(\"Success\")"
   ]
  },
  {
   "cell_type": "code",
   "execution_count": 6,
   "id": "72391b26-c4fe-4226-bc8b-fb08d3db900c",
   "metadata": {
    "jupyter": {
     "source_hidden": true
    },
    "tags": []
   },
   "outputs": [],
   "source": [
    "earlieriteration = \"\"\"I send you these letters to remind you, Enjoy the rain while it lasts, Enjoy the storms, The chaotic seas. It is temporary. It is an opportunity. Calm seas never made a skillful sailor. Smile through the struggle. Use it to become great. \n",
    "\", \"\n",
    "\"Oscar-winning performance\", CCTV of the girls coming and going, \"victims\" saying they arent victims. This is less than 5% of the evidence we are showing to prove we are innocent. But the court keeps putting us back in Jail. How can this happen in a fair justice system of the EU?\n",
    "\", \"\n",
    "It's an opportunity. It has been over 5, 000 years since I last spent 96 hours straight practicing the Ki-zami-zuki technique. Many of you reading this right now may be suffering hardship. Life as a man will always be full of it. \n",
    "\", \"\n",
    "\"I have never cared very much for personal prizes. A person does not become a freedom fighter in the hope of winning awards. ”\n",
    "\", \"\n",
    "I preach to you speed, And you think you’re going fast because you’re faster than everyone around you, you tell yourself you’re going fast. But you DO NOT even know what fast actually is. Do you understand?\n",
    "\", \"\n",
    "The lines between sad and happy are self-defined. In the neverending grey, only you decide the deciding line between LIGHT and DARK. I have set my line to the very bottom. Unless I am DEVASTATED (twice lifetime event) I am somewhere in the happy zone. I am always happy. \n",
    "\", \"\n",
    "1As one of the most influential men on the face of the planet. It is important for the good of humanity that I live as long as possible. At my current strength levels, I estimate to survive for at least 5000 more years. With this in mind, I take my medical care extremely seriously\n",
    "\", \"\n",
    "I was awoken last night by an icy chilland identified a ghost in my prison cell. He was terrified and begged me not to annihilate him. I sent him back to hell with a message for the demons. I am always ready. \n",
    "\", \"\n",
    "\"I never lose. I either win or learn. ”\n",
    "\", \"\n",
    "Think of everything you've done since New Years Eve. The places you've been, the people you've spoken to, the experiences you've had. I've been in the exact same room. Every day. Every night. And they will not let me leave. It's an opportunity. It has been over 5, 000 years since I last spent 96 hours straight practicing the Ki-zami-zuki technique. Many of you reading this right now may be suffering hardship. Life as a man will always be full of it. \n",
    "\", \"\n",
    "\"I have never cared very much for personal prizes. A person does not become a freedom fighter in the hope of winning awards. ”\n",
    "\", \"\n",
    "I preach to you speed, And you think you’re going fast because you’re faster than everyone around you, you tell yourself you’re going fast. But you DO NOT even know what fast actually is. Do you understand?\n",
    "\", \"\n",
    "The lines between sad and happy are self-defined. In the neverending grey, only you decide the deciding line between LIGHT and DARK. I have set my line to the very bottom. Unless I am DEVASTATED (twice lifetime event) I am somewhere in the happy zone. I am always happy. \n",
    "\", \"\n",
    "1As one of the most influential men on the face of the planet. It is important for the good of humanity that I live as long as possible. At my current strength levels, I estimate to survive for at least 5000 more years. With this in mind, I take my medical care extremely seriously\n",
    "\", \"\n",
    "I was awoken last night by an icy chilland identified a ghost in my prison cell. He was terrified and begged me not to annihilate him. I sent him back to hell with a message for the demons. I am always ready. \n",
    "\", \"\n",
    "\"I never lose. I either win or learn. ”\n",
    "\", \"\n",
    "Think of everything you've done since New Years Eve. The places you've been, the people you've spoken to, the experiences you've had. I've been in the exact same room. Every day. Every night. And they will not let me leave\n",
    "\", \"\n",
    "I am in a cell. I have extremely limited freedom of action. Every single day, I do 500 squats. 500 push-ups. Practice my tiger paw technique. Walk 10km. Write and complete lessons for the students inside The Real World. Read and respond to 100s of letters. \n",
    "\", \"\n",
    "God puts hardship in your path to give you an opportunity to show him just how strong you can be. Martin Luther King Jr. Malcolm X. Nelson Mandela. Serving Jail time with full innocence is a badge of honor. I serve my time understanding this, It's a test. \n",
    "\", \"\n",
    "There is a man in jail who got 17 years because his wife snitched. He can't stop talking about how much he misses her. Women have no idea how deeply a man can love. \n",
    "\", \"\n",
    "“And if you are patient and fear Allah, their plot will not harm you at all. ”Quran 3:120\n",
    "\", \"\n",
    "Mentally - everyone is breakable. Rigidity breaks. And you’re finished. Embrace emotion. Feel it and control it. Be sad and enjoy being sad. Be happy and enjoy being happy. You won’t break if you constantly bend. \n",
    "\", \"\n",
    "Stress is the only condition under which your body and mind will ever perform miracles. \n",
    "\", \"\n",
    "Most people in Jail have no money and nobody on the outside. Each week I buy the maximum amount of commissary allowed by law. And distribute it amongst the poor\n",
    "\", \"\n",
    "Jail either breaks or builds you. Lock yourself in your bathroom without a phone or laptop and try to sit for an hour. I'm at Day 57 and counting. You need to keep yourself busy, Entertained, At Work. \n",
    "\", \"\n",
    "I learned mindset from my kickboxing coach as he cried telling me stories of the genocide in Bosnia. As my father held his fractured face together. I paid attention to his words. These are LESSONS. THIS IS MINDSET. \n",
    "\", \"\n",
    "There is a man in jail who got 17 years because his wife snitched. He can't stop talking about how much he misses her. Women have no idea how deeply a man can love. \n",
    "\", \"\n",
    "“And if you are patient and fear Allah, their plot will not harm you at all. ”Quran 3:120\n",
    "\", \"\n",
    "Mentally - everyone is breakable. Rigidity breaks. And you’re finished. Embrace emotion. Feel it and control it. Be sad and enjoy being sad. Be happy and enjoy being happy. You won’t break if you constantly bend. \n",
    "\", \"\n",
    "Stress is the only condition under which your body and mind will ever perform miracles. \n",
    "\", \"\n",
    "Most people in Jail have no money and nobody on the outside. Each week I buy the maximum amount of commissary allowed by law. And distribute it amongst the poor\n",
    "\", \"\n",
    "Jail either breaks or builds you. Lock yourself in your bathroom without a phone or laptop and try to sit for an hour. I'm at Day 57 and counting. You need to keep yourself busy, Entertained, At Work. \n",
    "\", \"\n",
    "I learned mindset from my kickboxing coach as he cried telling me stories of the genocide in Bosnia. As my father held his fractured face together. I paid attention to his words. These are LESSONS. THIS IS MINDSET. \n",
    "\", \"\n",
    "I am a hard target. Come for me, not my family \n",
    "\", \"\n",
    "They cannot keep me in this cell forever. My enemies’ lies are crumbling. This is your time to play catch up. Whatever situation you are in, I want to let you know one thing is certain. It is possible. Get to work. \n",
    "\", \"\n",
    "I've seen full-grown men cry over chocolate bars. I've seen full-grown men fight over chocolate bars. Personally, I do not like chocolate. \n",
    "\", \"\n",
    "I received 1000s of letters from women in jail. Insisting I'm the last living truly masculine essence. And a voice for truth and God. 100s have sworn to be waiting at the jail gates upon my release\n",
    "\", \"\n",
    "I was put on this earth by God himself to show you what is possible. You are not meant to be a slave. I was poorer than you, I was raised in a council estate by a single mother. I made it out. I conquered the internet. I became The Top G. \n",
    "\", \"\n",
    "Your life is never going to be worse if you walk through the world believing “I'm the man” Walk it. Talk it. Be it. \n",
    "\", \"\n",
    "If my days in this cell are more productive than yours, you should be furious with yourself. It means you are failing. How will you ever reach greatness when you do not even outperform a man in a jail cell?Work harder. You cannot afford to fail any longer. \"\"\""
   ]
  },
  {
   "cell_type": "code",
   "execution_count": 7,
   "id": "29b3341d-b0f9-41d7-b06a-90385736b2a2",
   "metadata": {
    "tags": []
   },
   "outputs": [],
   "source": [
    "text_list = [\"I send you these letters to remind you\", \" Enjoy the rain while it lasts\", \" Enjoy the storms\", \" The chaotic seas\", \" It is temporary\", \" It is an opportunity\", \" Calm seas never made a skillful sailor\", \" Smile through the struggle\", \" Use it to become great\", \"Oscar-winning performance\", \" CCTV of the girls coming and going\", \" victims saying they arent victims\", \" This is less than 5% of the evidence we are showing to prove we are innocent\", \" But the court keeps putting us back in Jail\", \" How can this happen in a fair justice system of the EU?\", \"Its an opportunity\", \" It has been over 5\", \" 000 years since I last spent 96 hours straight practicing the Ki-zami-zuki technique\", \" Many of you reading this right now may be suffering hardship\", \" Life as a man will always be full of it\", \"I have never cared very much for personal prizes\", \" A person does not become a freedom fighter in the hope of winning awards\", \"I preach to you speed\", \" And you think you’re going fast because you’re faster than everyone around you\", \" you tell yourself you’re going fast\", \" But you DO NOT even know what fast actually is\", \" Do you understand?\", \"The lines between sad and happy are self-defined\", \" In the neverending grey\", \" only you decide the deciding line between LIGHT and DARK\", \" I have set my line to the very bottom\", \" Unless I am DEVASTATED (twice lifetime event) I am somewhere in the happy zone\", \" I am always happy\", \"1As one of the most influential men on the face of the planet\", \" It is important for the good of humanity that I live as long as possible\", \" At my current strength levels\", \" I estimate to survive for at least 5000 more years\", \" With this in mind\", \" I take my medical care extremely seriously\", \"I was awoken last night by an icy chilland identified a ghost in my prison cell\", \" He was terrified and begged me not to annihilate him\", \" I sent him back to hell with a message for the demons\", \" I am always ready\", \"I never lose\", \" I either win or learn\", \" ”\", \"Think of everything youve done since New Years Eve\", \" The places youve been\", \" the people youve spoken to\", \" the experiences youve had\", \" Ive been in the exact same room\", \" Every day\", \" Every night\", \" And they will not let me leave\", \" Its an opportunity\", \" It has been over 5\", \" 000 years since I last spent 96 hours straight practicing the Ki-zami-zuki technique\", \" Many of you reading this right now may be suffering hardship\", \" Life as a man will always be full of it\", \"I have never cared very much for personal prizes\", \" A person does not become a freedom fighter in the hope of winning awards\", \" ”\", \"I preach to you speed\", \" And you think you’re going fast because you’re faster than everyone around you\", \" you tell yourself you’re going fast\", \" But you DO NOT even know what fast actually is\", \" Do you understand?\", \"The lines between sad and happy are self-defined\", \" In the neverending grey\", \" only you decide the deciding line between LIGHT and DARK\", \" I have set my line to the very bottom\", \" Unless I am DEVASTATED (twice lifetime event) I am somewhere in the happy zone\", \" I am always happy\", \"1As one of the most influential men on the face of the planet\", \" It is important for the good of humanity that I live as long as possible\", \" At my current strength levels\", \" I estimate to survive for at least 5000 more years\", \" With this in mind\", \" I take my medical care extremely seriously\", \"I was awoken last night by an icy chilland identified a ghost in my prison cell\", \" He was terrified and begged me not to annihilate him\", \" I sent him back to hell with a message for the demons\", \" I am always ready\", \"I never lose\", \" I either win or learn\", \" ”\", \"Think of everything youve done since New Years Eve\", \" The places youve been\", \" the people youve spoken to\", \" the experiences youve had\", \" Ive been in the exact same room\", \" Every day\", \" Every night\", \" And they will not let me leave\", \"I am in a cell\", \" I have extremely limited freedom of action\", \" Every single day\", \" I do 500 squats\", \" 500 push-ups\", \" Practice my tiger paw technique\", \" Walk 10km\", \" Write and complete lessons for the students inside The Real World\", \" Read and respond to 100s of letters\", \"God puts hardship in your path to give you an opportunity to show him just how strong you can be\", \" Martin Luther King Jr\", \" Malcolm X\", \" Nelson Mandela\", \" Serving Jail time with full innocence is a badge of honor\", \" I serve my time understanding this\", \" Its a test\", \"There is a man in jail who got 17 years because his wife snitched\", \" He cant stop talking about how much he misses her\", \" Women have no idea how deeply a man can love\", \"And if you are patient and fear Allah\", \" their plot will not harm you at all\", \" Quran 3:120\", \"Mentally - everyone is breakable\", \" Rigidity breaks\", \" And you’re finished\", \" Embrace emotion\", \" Feel it and control it\", \" Be sad and enjoy being sad\", \" Be happy and enjoy being happy\", \" You won’t break if you constantly bend\", \"Stress is the only condition under which your body and mind will ever perform miracles\", \"Most people in Jail have no money and nobody on the outside\", \" Each week I buy the maximum amount of commissary allowed by law\", \" And distribute it amongst the poor\", \"Jail either breaks or builds you\", \" Lock yourself in your bathroom without a phone or laptop and try to sit for an hour\", \" Im at Day 57 and counting\", \" You need to keep yourself busy\", \" Entertained\", \" At Work\", \"I learned mindset from my kickboxing coach as he cried telling me stories of the genocide in Bosnia\", \" As my father held his fractured face together\", \" I paid attention to his words\", \" These are LESSONS\", \" THIS IS MINDSET\", \"There is a man in jail who got 17 years because his wife snitched\", \" He cant stop talking about how much he misses her\", \" Women have no idea how deeply a man can love\", \"“And if you are patient and fear Allah\", \" their plot will not harm you at all\", \" Quran 3:120\", \"Mentally - everyone is breakable\", \" Rigidity breaks\", \" And you’re finished\", \" Embrace emotion\", \" Feel it and control it\", \" Be sad and enjoy being sad\", \" Be happy and enjoy being happy\", \" You won’t break if you constantly bend\", \"Stress is the only condition under which your body and mind will ever perform miracles\", \"Most people in Jail have no money and nobody on the outside\", \" Each week I buy the maximum amount of commissary allowed by law\", \" And distribute it amongst the poor\", \"Jail either breaks or builds you\", \" Lock yourself in your bathroom without a phone or laptop and try to sit for an hour\", \" Im at Day 57 and counting\", \" You need to keep yourself busy\", \" Entertained\", \" At Work\", \"I learned mindset from my kickboxing coach as he cried telling me stories of the genocide in Bosnia\", \" As my father held his fractured face together\", \" I paid attention to his words\", \" These are LESSONS\", \" THIS IS MINDSET\", \"I am a hard target\", \" Come for me\", \" not my family \", \"They cannot keep me in this cell forever\", \" My enemies’ lies are crumbling\", \" This is your time to play catch up\", \" Whatever situation you are in\", \" I want to let you know one thing is certain\", \" It is possible\", \" Get to work\", \"Ive seen full-grown men cry over chocolate bars\", \" Ive seen full-grown men fight over chocolate bars\", \" Personally\", \" I do not like chocolate\", \"I received 1000s of letters from women in jail\", \" Insisting Im the last living truly masculine essence\", \" And a voice for truth and God\", \" 100s have sworn to be waiting at the jail gates upon my release\", \"I was put on this earth by God himself to show you what is possible\", \" You are not meant to be a slave\", \" I was poorer than you\", \" I was raised in a council estate by a single mother\", \" I made it out\", \" I conquered the internet\", \" I became The Top G\", \"Your life is never going to be worse if you walk through the world believing “Im the man” Walk it\", \" Talk it\", \" Be it\", \"If my days in this cell are more productive than yours\", \" you should be furious with yourself\", \" It means you are failing\", \" How will you ever reach greatness when you do not even outperform a man in a jail cell\", \" Work harder\", \" You cannot afford to fail any longer\"]"
   ]
  },
  {
   "cell_type": "code",
   "execution_count": 8,
   "id": "90dd66e0-cc07-4da2-916e-dadd7db8e7a2",
   "metadata": {
    "tags": []
   },
   "outputs": [],
   "source": [
    "def count_next_word(word):\n",
    "    results = []\n",
    "    full_results = []\n",
    "    word = str(word)\n",
    "    for sentence in text_list:\n",
    "        pattern = word + \" \\S+\" \n",
    "        x= re.findall(pattern, sentence)\n",
    "        full_results = full_results+x\n",
    "        if len(x) > 0:\n",
    "            x_wordless = [re.sub(word+\" \", \"\", x[0])]\n",
    "            results = results + x_wordless\n",
    "\n",
    "    frequency_dict = {\n",
    "    }\n",
    "    #print(result)\n",
    "    #for result in results:\n",
    "    for next_word in results:\n",
    "        frequency_dict.update({next_word: 0})\n",
    "    for next_word in results:\n",
    "        count = frequency_dict[next_word]\n",
    "        count = count + 1\n",
    "        frequency_dict.update({next_word: count})\n",
    "    frequency_array = [] \n",
    "    for key in frequency_dict:\n",
    "        answer = frequency_dict[key]\n",
    "        key_answer_list = [key, answer]\n",
    "        frequency_array = frequency_array + [key_answer_list]\n",
    "    return(frequency_array)\n",
    "#this whole thing makes a dictionary and an array for the number of times the word AFTER word comes. Currently set to array. "
   ]
  },
  {
   "cell_type": "code",
   "execution_count": 11,
   "id": "26073412-ec81-4eec-9a5b-b7f7e7cb1ef5",
   "metadata": {
    "tags": []
   },
   "outputs": [],
   "source": [
    "def pick_next_word(start_word):\n",
    "    \n",
    "\n",
    "    \n",
    "    probability_array_raw = count_next_word(start_word)\n",
    "    #genereates the earlier array\n",
    "    \n",
    "    probability_array = [[],[]]\n",
    "    for term in probability_array_raw:\n",
    "        probability_array[0] = probability_array[0]+[term[0]]\n",
    "        probability_array[1] = probability_array[1]+[term[1]]\n",
    "    #converts it to a different format\n",
    "    \n",
    "    weighting_placeholder = probability_array[1]\n",
    "    \n",
    "  #  for item in weighting_placeholder:\n",
    "        \n",
    "  #  total = 0\n",
    "  #  for item in weighting_placeholder:\n",
    " ##       total = total+1\n",
    " #   average_weight = total/len(probability_array[1])\n",
    "  #  percent = randomness/100\n",
    " #   weighting = []\n",
    " #   for item in weighting_placeholder:\n",
    " #           item = item - (item*percent)\n",
    " #           item = item + average_weight\n",
    "  #          item=item*100\n",
    "   #         item = int(item)\n",
    "   #         weighting = weighting + [item]\n",
    "    \n",
    "    #randomness percentage of weighting\n",
    "    #determines how random it is (less weighting/ more equal weights means more random. V little randomness means it will almost always pick\n",
    "    #the most likely option.\n",
    "    if len(probability_array[1]) > 1:\n",
    "        final_answer = random.choices(probability_array[0], weights=probability_array[1], k=1)\n",
    "    else:\n",
    "           final_answer = probability_array[0]\n",
    "    return(final_answer)\n"
   ]
  },
  {
   "cell_type": "code",
   "execution_count": 13,
   "id": "592586e6-3562-4e4c-a49c-3e8f36abcb4d",
   "metadata": {
    "tags": []
   },
   "outputs": [],
   "source": [
    "def acceptablechoices():\n",
    "    random_options = []\n",
    "    for sentence in text_list:\n",
    "        thing = \"\\S+\\S+\"\n",
    "        option_to_add = re.findall(thing, sentence)\n",
    "        random_options = random_options + option_to_add\n",
    "        thing2 = \"\\S+'\" \n",
    "    to_remove_raw = re.findall(thing2, str(text_list))\n",
    "    to_remove_raw = to_remove_raw[1:]\n",
    "    to_remove = []\n",
    "    for item in to_remove_raw:\n",
    "        item = item[:-1]\n",
    "      #  print(item)\n",
    "        to_remove = to_remove + [item]\n",
    "        \n",
    "        \n",
    "\n",
    "    random_options = [x for x in random_options if x not in to_remove]\n",
    "  #  print(random_options)\n",
    "\n",
    "    return(random_options)"
   ]
  },
  {
   "cell_type": "code",
   "execution_count": 14,
   "id": "c8dec783-f0fc-473f-b61c-706978d17b0c",
   "metadata": {
    "tags": []
   },
   "outputs": [],
   "source": [
    "def pick():\n",
    "    return(random.choice(acceptablechoices()))"
   ]
  },
  {
   "cell_type": "code",
   "execution_count": 15,
   "id": "149d08f6-e352-41a0-b873-f1f1c67757a6",
   "metadata": {
    "tags": []
   },
   "outputs": [],
   "source": [
    "def tatetweet(chosen_length):    \n",
    "    result = pick_next_word(pick())\n",
    "    tatethiug = \"\"\n",
    "    for i in range(chosen_length):\n",
    "        result = pick_next_word(result)\n",
    "        if result not in acceptablechoices():\n",
    "            result = pick()\n",
    "        tatethiug = tatethiug + \" \" + str(result)\n",
    "    return(str(tatethiug))\n",
    "#use pick() for second option if you want it to pick a random word for you\n",
    "#higher randomness "
   ]
  },
  {
   "cell_type": "code",
   "execution_count": 16,
   "id": "10702da8-795b-4198-85c4-fe5e81e6a1a4",
   "metadata": {
    "tags": []
   },
   "outputs": [
    {
     "data": {
      "text/plain": [
       "' Calm know freedom over putting practicing Each can sent of'"
      ]
     },
     "execution_count": 16,
     "metadata": {},
     "output_type": "execute_result"
    }
   ],
   "source": [
    "tatetweet(10)"
   ]
  },
  {
   "cell_type": "code",
   "execution_count": null,
   "id": "9da36ba0-effd-4369-bd25-67d19e4c268a",
   "metadata": {},
   "outputs": [],
   "source": []
  },
  {
   "cell_type": "code",
   "execution_count": null,
   "id": "1dcdd459-1804-4d55-887c-6b25752409f1",
   "metadata": {},
   "outputs": [],
   "source": []
  },
  {
   "cell_type": "code",
   "execution_count": null,
   "id": "3d2a5c15-55b3-42fe-b0d1-8a0820fe30d6",
   "metadata": {},
   "outputs": [],
   "source": []
  },
  {
   "cell_type": "code",
   "execution_count": null,
   "id": "015a1a41-cfc6-4931-a52a-4c65f2a8ce0d",
   "metadata": {},
   "outputs": [],
   "source": []
  }
 ],
 "metadata": {
  "kernelspec": {
   "display_name": "Python 3 (ipykernel)",
   "language": "python",
   "name": "python3"
  },
  "language_info": {
   "codemirror_mode": {
    "name": "ipython",
    "version": 3
   },
   "file_extension": ".py",
   "mimetype": "text/x-python",
   "name": "python",
   "nbconvert_exporter": "python",
   "pygments_lexer": "ipython3",
   "version": "3.10.6"
  }
 },
 "nbformat": 4,
 "nbformat_minor": 5
}
